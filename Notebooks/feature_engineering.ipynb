{
 "cells": [
  {
   "cell_type": "code",
   "execution_count": 5,
   "id": "60b8f0d0-d7b1-4a0c-bff9-b19b67cefce4",
   "metadata": {},
   "outputs": [],
   "source": [
    "# Week 2: Model Preparation and Initial Modeling\n",
    "import pandas as pd\n",
    "import numpy as np\n",
    "import matplotlib.pyplot as plt\n",
    "import seaborn as sns\n",
    "from sklearn.preprocessing import StandardScaler"
   ]
  },
  {
   "cell_type": "code",
   "execution_count": 6,
   "id": "4766d8f6-ce76-4397-9505-24b1fdea8709",
   "metadata": {},
   "outputs": [
    {
     "name": "stdout",
     "output_type": "stream",
     "text": [
      "Dataset Shape: (64502, 16)\n",
      "   id    age  gender  height  weight  ap_hi  ap_lo  cholesterol  gluc  smoke  \\\n",
      "0   0  18393       2     168    62.0    110     80            1     1      0   \n",
      "1   1  20228       1     156    85.0    140     90            3     1      0   \n",
      "2   2  18857       1     165    64.0    130     70            3     1      0   \n",
      "3   3  17623       2     169    82.0    150    100            1     1      0   \n",
      "4   8  21914       1     151    67.0    120     80            2     2      0   \n",
      "\n",
      "   alco  active  cardio  age_years        bmi age_group  \n",
      "0     0       1       0         50  21.967120    Senior  \n",
      "1     0       1       1         55  34.927679    Senior  \n",
      "2     0       0       1         51  23.507805    Senior  \n",
      "3     0       1       1         48  28.710479    Senior  \n",
      "4     0       0       0         60  29.384676   Elderly  \n"
     ]
    }
   ],
   "source": [
    "file_path = r\"C:\\Users\\Faizan\\OneDrive - BENNETT UNIVERSITY\\blood disease\\cardio_train.csv\\cleaned_cardio_data.csv\"\n",
    "df = pd.read_csv(file_path)\n",
    "\n",
    "# Quick check to confirm loading\n",
    "print(\"Dataset Shape:\", df.shape)\n",
    "print(df.head())"
   ]
  },
  {
   "cell_type": "code",
   "execution_count": 7,
   "id": "c3b837e4-c62c-4675-a6f1-cfa8ad7c919f",
   "metadata": {},
   "outputs": [
    {
     "name": "stdout",
     "output_type": "stream",
     "text": [
      "\n",
      "Updated Dataset Shape: (64502, 19)\n",
      "\n",
      "First 5 rows of features (X):\n",
      "   gender    height    weight     ap_hi     ap_lo  cholesterol  gluc  smoke  \\\n",
      "0       2  0.434774 -0.867033 -1.155650 -0.231996            1     1      0   \n",
      "1       1 -1.037946  0.759313  0.929925  1.064481            3     1      0   \n",
      "2       1  0.066594 -0.725612  0.234734 -1.528473            3     1      0   \n",
      "3       2  0.557500  0.547181  1.625117  2.360958            1     1      0   \n",
      "4       1 -1.651579 -0.513480 -0.460458 -0.231996            2     2      0   \n",
      "\n",
      "   alco  active  age_years       bmi  bp_interaction  age_group_Middle-aged  \\\n",
      "0     0       1  -0.430631 -0.930632       -0.800402                  False   \n",
      "1     0       1   0.310824  1.231883        1.060027                  False   \n",
      "2     0       0  -0.282340 -0.673563       -0.653526                  False   \n",
      "3     0       1  -0.727212  0.194522        2.235034                  False   \n",
      "4     0       0   1.052279  0.307014       -0.408733                  False   \n",
      "\n",
      "   age_group_Senior  age_group_Young  bp_category_Elevated  \\\n",
      "0              True            False                 False   \n",
      "1              True            False                 False   \n",
      "2              True            False                 False   \n",
      "3              True            False                 False   \n",
      "4             False            False                  True   \n",
      "\n",
      "   bp_category_High Stage 1  bp_category_High Stage 2  \n",
      "0                     False                     False  \n",
      "1                     False                      True  \n",
      "2                      True                     False  \n",
      "3                     False                      True  \n",
      "4                     False                     False  \n",
      "\n",
      "First 5 rows of target (y):\n",
      "0    0\n",
      "1    1\n",
      "2    1\n",
      "3    1\n",
      "4    0\n",
      "Name: cardio, dtype: int64\n"
     ]
    }
   ],
   "source": [
    "df['bp_category'] = pd.cut(df['ap_hi'], \n",
    "                          bins=[0, 120, 130, 140, float('inf')], \n",
    "                          labels=['Normal', 'Elevated', 'High Stage 1', 'High Stage 2'], \n",
    "                          right=False)\n",
    "\n",
    "# Interaction feature: ap_hi * ap_lo (pulse pressure influence)\n",
    "df['bp_interaction'] = df['ap_hi'] * df['ap_lo']\n",
    "\n",
    "# Encode categorical features (age_group and bp_category)\n",
    "df = pd.get_dummies(df, columns=['age_group', 'bp_category'], drop_first=True)\n",
    "\n",
    "# Define features and target\n",
    "X = df.drop(columns=['id', 'age', 'cardio'])  # Drop 'id', 'age', and 'cardio'\n",
    "y = df['cardio']\n",
    "\n",
    "# Scale numerical features\n",
    "scaler = StandardScaler()\n",
    "numerical_cols = ['age_years', 'height', 'weight', 'ap_hi', 'ap_lo', 'bmi', 'bp_interaction']\n",
    "X[numerical_cols] = scaler.fit_transform(X[numerical_cols])\n",
    "\n",
    "# Check the updated dataset\n",
    "print(\"\\nUpdated Dataset Shape:\", X.shape)\n",
    "print(\"\\nFirst 5 rows of features (X):\")\n",
    "print(X.head())\n",
    "print(\"\\nFirst 5 rows of target (y):\")\n",
    "print(y.head())"
   ]
  },
  {
   "cell_type": "code",
   "execution_count": 8,
   "id": "aadcdce4-c7c9-466c-a2a6-6893aa99e9ed",
   "metadata": {},
   "outputs": [
    {
     "name": "stdout",
     "output_type": "stream",
     "text": [
      "Training Set Shape (X_train): (51601, 19)\n",
      "Testing Set Shape (X_test): (12901, 19)\n",
      "Training Target Shape (y_train): (51601,)\n",
      "Testing Target Shape (y_test): (12901,)\n",
      "\n",
      "First 5 rows of X_train:\n",
      "       gender    height    weight     ap_hi     ap_lo  cholesterol  gluc  \\\n",
      "1339        2  1.784767  2.244237 -0.460458 -0.231996            3     1   \n",
      "13348       1 -0.056133  0.830023  0.234734 -0.231996            1     1   \n",
      "36441       1 -0.301586  0.830023 -0.460458 -1.528473            2     1   \n",
      "38059       1 -2.142486 -1.856983 -0.460458 -0.231996            1     1   \n",
      "61333       2 -0.547039 -0.725612  0.929925 -0.231996            1     1   \n",
      "\n",
      "       smoke  alco  active  age_years       bmi  bp_interaction  \\\n",
      "1339       0     0       1   0.459115  0.924028       -0.408733   \n",
      "13348      0     0       1   1.348861  0.739221       -0.017063   \n",
      "36441      0     0       1   0.310824  0.871766       -0.996236   \n",
      "38059      0     0       1   0.310824 -0.889611       -0.408733   \n",
      "61333      1     0       1   0.755697 -0.424585        0.374606   \n",
      "\n",
      "       age_group_Middle-aged  age_group_Senior  age_group_Young  \\\n",
      "1339                   False              True            False   \n",
      "13348                  False             False            False   \n",
      "36441                  False              True            False   \n",
      "38059                  False              True            False   \n",
      "61333                  False              True            False   \n",
      "\n",
      "       bp_category_Elevated  bp_category_High Stage 1  \\\n",
      "1339                   True                     False   \n",
      "13348                 False                      True   \n",
      "36441                  True                     False   \n",
      "38059                  True                     False   \n",
      "61333                 False                     False   \n",
      "\n",
      "       bp_category_High Stage 2  \n",
      "1339                      False  \n",
      "13348                     False  \n",
      "36441                     False  \n",
      "38059                     False  \n",
      "61333                      True  \n",
      "\n",
      "First 5 rows of y_train:\n",
      "1339     1\n",
      "13348    0\n",
      "36441    1\n",
      "38059    1\n",
      "61333    1\n",
      "Name: cardio, dtype: int64\n"
     ]
    }
   ],
   "source": [
    "from sklearn.model_selection import train_test_split\n",
    "\n",
    "# 2. Train-Test Split\n",
    "X_train, X_test, y_train, y_test = train_test_split(X, y, test_size=0.2, random_state=42, stratify=y)\n",
    "\n",
    "# Verify the split\n",
    "print(\"Training Set Shape (X_train):\", X_train.shape)\n",
    "print(\"Testing Set Shape (X_test):\", X_test.shape)\n",
    "print(\"Training Target Shape (y_train):\", y_train.shape)\n",
    "print(\"Testing Target Shape (y_test):\", y_test.shape)\n",
    "print(\"\\nFirst 5 rows of X_train:\")\n",
    "print(X_train.head())\n",
    "print(\"\\nFirst 5 rows of y_train:\")\n",
    "print(y_train.head())"
   ]
  },
  {
   "cell_type": "code",
   "execution_count": 9,
   "id": "8149acb2-de90-44d7-8ead-b26390c94434",
   "metadata": {},
   "outputs": [
    {
     "name": "stdout",
     "output_type": "stream",
     "text": [
      "Training Accuracy: 0.7229\n",
      "Testing Accuracy: 0.7293\n",
      "\n",
      "Classification Report (Test Set):\n",
      "              precision    recall  f1-score   support\n",
      "\n",
      "           0       0.70      0.80      0.75      6471\n",
      "           1       0.77      0.66      0.71      6430\n",
      "\n",
      "    accuracy                           0.73     12901\n",
      "   macro avg       0.73      0.73      0.73     12901\n",
      "weighted avg       0.73      0.73      0.73     12901\n",
      "\n"
     ]
    }
   ],
   "source": [
    "from sklearn.linear_model import LogisticRegression\n",
    "from sklearn.metrics import accuracy_score, classification_report\n",
    "\n",
    "# 3. Baseline Model\n",
    "# Initialize and train the model\n",
    "model = LogisticRegression(max_iter=1000, random_state=42)\n",
    "model.fit(X_train, y_train)\n",
    "\n",
    "y_train_pred = model.predict(X_train)\n",
    "y_test_pred = model.predict(X_test)\n",
    "\n",
    "# Evaluate the model\n",
    "train_accuracy = accuracy_score(y_train, y_train_pred)\n",
    "test_accuracy = accuracy_score(y_test, y_test_pred)\n",
    "\n",
    "print(\"Training Accuracy:\", round(train_accuracy, 4))\n",
    "print(\"Testing Accuracy:\", round(test_accuracy, 4))\n",
    "print(\"\\nClassification Report (Test Set):\")\n",
    "print(classification_report(y_test, y_test_pred))"
   ]
  },
  {
   "cell_type": "code",
   "execution_count": 10,
   "id": "728fba05-1926-41a9-a72d-b805629cbce5",
   "metadata": {},
   "outputs": [
    {
     "name": "stdout",
     "output_type": "stream",
     "text": [
      "ROC-AUC Score (Test Set): 0.7955\n",
      "\n",
      "Confusion Matrix (Test Set):\n",
      "[[5193 1278]\n",
      " [2214 4216]]\n"
     ]
    },
    {
     "data": {
      "image/png": "[encoded data removed]",
      "text/plain": [
       "<Figure size 640x480 with 2 Axes>"
      ]
     },
     "metadata": {},
     "output_type": "display_data"
    }
   ],
   "source": [
    "from sklearn.metrics import roc_auc_score, confusion_matrix, ConfusionMatrixDisplay\n",
    "\n",
    "# 4. Evaluation\n",
    "# Calculate ROC-AUC\n",
    "y_test_prob = model.predict_proba(X_test)[:, 1]  # Probabilities for class 1\n",
    "roc_auc = roc_auc_score(y_test, y_test_prob)\n",
    "\n",
    "cm = confusion_matrix(y_test, y_test_pred)\n",
    "\n",
    "print(\"ROC-AUC Score (Test Set):\", round(roc_auc, 4))\n",
    "print(\"\\nConfusion Matrix (Test Set):\")\n",
    "print(cm)\n",
    "\n",
    "disp = ConfusionMatrixDisplay(confusion_matrix=cm, display_labels=['No Cardio', 'Cardio'])\n",
    "disp.plot(cmap='Blues')\n",
    "plt.title(\"Confusion Matrix (Test Set)\")\n",
    "plt.show()"
   ]
  },
  {
   "cell_type": "code",
   "execution_count": 11,
   "id": "57f4a726-2e7b-46fa-abb6-ec3348aeb2bc",
   "metadata": {},
   "outputs": [
    {
     "name": "stdout",
     "output_type": "stream",
     "text": [
      "Baseline model saved as: C:\\Users\\Faizan\\OneDrive - BENNETT UNIVERSITY\\blood disease\\cardio_train.csv\\logistic_regression_baseline.pkl\n",
      "\n",
      "Week 2 Summary:\n",
      "- Training Accuracy: 0.7229\n",
      "- Testing Accuracy: 0.7293\n",
      "- ROC-AUC Score (Test Set): 0.7955\n",
      "- Confusion Matrix (Test Set):\n",
      "[[5193 1278]\n",
      " [2214 4216]]\n",
      "\n",
      "Key Insights:\n",
      "- Model achieves ~73% accuracy, generalizes well (test > train).\n",
      "- ROC-AUC of 0.80 indicates strong class separation.\n",
      "- Slightly better at identifying no-cardio (recall 0.80) than cardio (recall 0.66).\n"
     ]
    }
   ],
   "source": [
    "import joblib\n",
    "\n",
    "# 5. Deliverable\n",
    "# Save the model\n",
    "model_path = r\"C:\\Users\\Faizan\\OneDrive - BENNETT UNIVERSITY\\blood disease\\cardio_train.csv\\logistic_regression_baseline.pkl\"\n",
    "joblib.dump(model, model_path)\n",
    "print(\"Baseline model saved as:\", model_path)\n",
    "\n",
    "# Document results\n",
    "print(\"\\nWeek 2 Summary:\")\n",
    "print(\"- Training Accuracy:\", round(train_accuracy, 4))\n",
    "print(\"- Testing Accuracy:\", round(test_accuracy, 4))\n",
    "print(\"- ROC-AUC Score (Test Set):\", round(roc_auc, 4))\n",
    "print(\"- Confusion Matrix (Test Set):\")\n",
    "print(cm)\n",
    "print(\"\\nKey Insights:\")\n",
    "print(\"- Model achieves ~73% accuracy, generalizes well (test > train).\")\n",
    "print(\"- ROC-AUC of 0.80 indicates strong class separation.\")\n",
    "print(\"- Slightly better at identifying no-cardio (recall 0.80) than cardio (recall 0.66).\")"
   ]
  },
  {
   "cell_type": "code",
   "execution_count": null,
   "id": "f73a749b-2c76-421b-8a2c-af2518af7f64",
   "metadata": {},
   "outputs": [],
   "source": []
  }
 ],
 "metadata": {
  "kernelspec": {
   "display_name": "Python 3 (ipykernel)",
   "language": "python",
   "name": "python3"
  },
  "language_info": {
   "codemirror_mode": {
    "name": "ipython",
    "version": 3
   },
   "file_extension": ".py",
   "mimetype": "text/x-python",
   "name": "python",
   "nbconvert_exporter": "python",
   "pygments_lexer": "ipython3",
   "version": "3.12.7"
  }
 },
 "nbformat": 4,
 "nbformat_minor": 5
}
